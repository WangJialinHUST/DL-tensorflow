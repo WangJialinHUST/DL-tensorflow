{
 "cells": [
  {
   "cell_type": "markdown",
   "metadata": {},
   "source": [
    "# Recurrent Neural Networks: Language Modeling\n",
    "\n",
    "Given words $x_{1},x_{2},...,x_{t}$,a language model will predict the following word $x_{t+1}$ by modeling:\n",
    "\n",
    "$P(x_{t+1}=v_{j}|x_{t},...,x_{1})$\n",
    "\n",
    "which $v_{j}$ is a word in vocabulary.\n",
    "\n",
    "$e^{(t)}=x^{(t)}L$\n",
    "$h^{(t)}=sigmoid(h^{(t-1)}H + e^{(t)}I + b_{1})$\n",
    "$y^{(t)}=softmax(h^{(t)}U + b2)$\n",
    "\n",
    "$P(x_{t+1}=v_{j}|x_{t},...,x_{1})=\\hat{y}_{j}^{(t)}$\n",
    "\n",
    "$x^{(t)}\\in R^{|V|}$ : one-hot row vector representing the index of the current word. \n",
    "\n",
    "$L\\in R^{|V|*d}$ : word embeddings, \n",
    "\n",
    "$H\\in R^{D_{h}*D_{h}}$ : the hidden transformation matrix\n",
    "\n",
    "$I\\in R^{d*D_{h}}$ : the input word to hidden transformation matrix\n",
    "\n",
    "$b_{1} \\in R^{D_{h}}$ : bias\n",
    "\n",
    "$b_{2} \\in R^{|V|}$ : bias\n",
    "\n",
    "$|V|$ : the vocabulary size; $d$ : the word embedding size; $D_{h}$ : the hidden layer dimension\n",
    "\n",
    "### Loss Function:\n",
    "cross entropy :\n",
    "$J^{(t)}(\\theta)=CE(y^{(t)},\\hat{y}^{(t)})=-\\sum_{i=1}^{|V|}y_{i}^{(t)}log\\hat{y}^{(t)}$"
   ]
  },
  {
   "cell_type": "code",
   "execution_count": 2,
   "metadata": {
    "collapsed": true
   },
   "outputs": [],
   "source": [
    "import tensorflow as tf\n",
    "import numpy as np"
   ]
  },
  {
   "cell_type": "code",
   "execution_count": 3,
   "metadata": {
    "collapsed": true
   },
   "outputs": [],
   "source": [
    "batch_size = 64\n",
    "embed_size = 50\n",
    "hidden_size = 100\n",
    "num_steps = 10\n",
    "max_epochs = 16\n",
    "early_stopping = 2\n",
    "dropout = 0.9\n",
    "lr = 0.001"
   ]
  },
  {
   "cell_type": "code",
   "execution_count": 4,
   "metadata": {
    "collapsed": false
   },
   "outputs": [],
   "source": [
    "from utils import calculate_perplexity, get_ptb_dataset, Vocab\n",
    "from utils import ptb_iterator, sample"
   ]
  },
  {
   "cell_type": "code",
   "execution_count": 5,
   "metadata": {
    "collapsed": true
   },
   "outputs": [],
   "source": [
    "def load_data():\n",
    "    \"\"\"Loads starter word-vectors and train/dev/test data.\"\"\"\n",
    "    vocab = Vocab()\n",
    "    vocab.construct(get_ptb_dataset('train'))\n",
    "    encoded_train = np.array(\n",
    "        [vocab.encode(word) for word in get_ptb_dataset('train')],\n",
    "        dtype=np.int32)\n",
    "    encoded_valid = np.array(\n",
    "        [vocab.encode(word) for word in get_ptb_dataset('valid')],\n",
    "        dtype=np.int32)\n",
    "    encoded_test = np.array(\n",
    "        [vocab.encode(word) for word in get_ptb_dataset('test')],\n",
    "        dtype=np.int32)\n",
    "    return encoded_train, encoded_valid, encoded_test, vocab"
   ]
  },
  {
   "cell_type": "code",
   "execution_count": 6,
   "metadata": {
    "collapsed": false
   },
   "outputs": [
    {
     "name": "stdout",
     "output_type": "stream",
     "text": [
      "929589.0 total words with 10000 uniques\n"
     ]
    }
   ],
   "source": [
    "train_set, valid_set, test_set, vocab = load_data()"
   ]
  },
  {
   "cell_type": "code",
   "execution_count": 7,
   "metadata": {
    "collapsed": false
   },
   "outputs": [
    {
     "name": "stdout",
     "output_type": "stream",
     "text": [
      "[ 2  3  4  5  6  7  8  9 10 11 12 13 14 15 16 17 18 19 20 21 22 23 24 25 26\n",
      "  0 27 28 29 30 31 32 33 34 35 36 37 38 27 25 39  0 40 41 42  0 43 32 44]\n"
     ]
    }
   ],
   "source": [
    "print(train_set[1:50])"
   ]
  },
  {
   "cell_type": "markdown",
   "metadata": {},
   "source": [
    "# build the graph"
   ]
  },
  {
   "cell_type": "code",
   "execution_count": 8,
   "metadata": {
    "collapsed": true
   },
   "outputs": [],
   "source": [
    "# add the placeholders\n",
    "def add_placeholders():\n",
    "    input_placeholder = tf.placeholder(tf.int32, shape=[None, num_steps])\n",
    "    label_placeholder = tf.placeholder(tf.int32, shape=[None, num_steps])\n",
    "    return input_placeholder, label_placeholder"
   ]
  },
  {
   "cell_type": "code",
   "execution_count": 9,
   "metadata": {
    "collapsed": true
   },
   "outputs": [],
   "source": [
    "# create the feed_dict\n",
    "def create_feed_dict(input_placeholder, input_batch, label_placeholder, label_batch):\n",
    "    feed_dict = {input_placeholder: input_batch,\n",
    "                label_placeholder:label_batch}\n",
    "    return feed_dict"
   ]
  },
  {
   "cell_type": "markdown",
   "metadata": {
    "collapsed": false
   },
   "source": [
    "### HINTS\n",
    "### You should take care of how to construct the model inputs\n",
    "tf.squeeze(input, squeeze_dims=None, name=None):Removes dimensions of size 1 from the shape of a tensor.\n",
    "\n",
    "tf.split(split_dim, num_split, value, name='split'):Splits a tensor into `num_split` tensors along one dimension.\n",
    "    \n",
    "num_steps: like the $t$ in the model. "
   ]
  },
  {
   "cell_type": "code",
   "execution_count": 10,
   "metadata": {
    "collapsed": true
   },
   "outputs": [],
   "source": [
    "def add_embed_layer(vocab_size, input_placeholder):\n",
    "    with tf.device('/cpu:0'):\n",
    "        embed = tf.get_variable(name=\"Embedding\", shape=[vocab_size, embed_size])\n",
    "        inputs = tf.nn.embedding_lookup(embed, input_placeholder)\n",
    "        inputs = [tf.squeeze(input, squeeze_dims=[1]) for input in tf.split(1, num_steps, inputs)] \n",
    "        return inputs"
   ]
  },
  {
   "cell_type": "code",
   "execution_count": 11,
   "metadata": {
    "collapsed": true
   },
   "outputs": [],
   "source": [
    "## according the model at the begining of this file\n",
    "def add_model(inputs, vocab_size):\n",
    "    ###initial state\n",
    "    with tf.variable_scope('RNN') as scope:\n",
    "        state = tf.zeros([batch_size, hidden_size])\n",
    "        rnn_outputs = []\n",
    "        for tstep, current_input in enumerate(inputs):\n",
    "            if tstep > 0:\n",
    "                scope.reuse_variables()\n",
    "            RNN_H = tf.get_variable('HMatrix', shape=[hidden_size, hidden_size])\n",
    "            RNN_I = tf.get_variable('IMatrix', shape=[embed_size, hidden_size])\n",
    "            RNN_b1 = tf.get_variable('b1', shape=[hidden_size])\n",
    "            state = tf.sigmoid(tf.matmul(state, RNN_H) + tf.matmul(current_input, RNN_I) + RNN_b1)\n",
    "            rnn_outputs.append(state)\n",
    "    return rnn_outputs"
   ]
  },
  {
   "cell_type": "code",
   "execution_count": 28,
   "metadata": {
    "collapsed": true
   },
   "outputs": [],
   "source": [
    "## add the Projection layer\n",
    "def add_projection_layer(rnn_outputs, vocab_size):\n",
    "    RNN_U = tf.get_variable('UMatrix', shape=[hidden_size, vocab_size])\n",
    "    RNN_b2 = tf.get_variable('b2', shape=[vocab_size])\n",
    "    outputs = [tf.matmul(state, RNN_U) + RNN_b2 for state in rnn_outputs]\n",
    "    return outputs"
   ]
  },
  {
   "cell_type": "code",
   "execution_count": 29,
   "metadata": {
    "collapsed": false
   },
   "outputs": [],
   "source": [
    "## add loss op\n",
    "def add_loss_op(outputs, label_placeholder):\n",
    "    all_one_weights = num_steps*[tf.ones([batch_size])]\n",
    "    ### TODO len(targets) = len(output) = num_steps!!\n",
    "    ##construct the targets\n",
    "    targets = [tf.squeeze(label_placeholder[:, i]) for i in range(num_steps)]\n",
    "    cross_entropy = tf.nn.seq2seq.sequence_loss(outputs,\n",
    "                                                targets=targets, \n",
    "                                                weights=all_one_weights)\n",
    "    loss = cross_entropy\n",
    "    return loss"
   ]
  },
  {
   "cell_type": "code",
   "execution_count": 30,
   "metadata": {
    "collapsed": true
   },
   "outputs": [],
   "source": [
    "## add training op\n",
    "def add_train_op(loss):\n",
    "    train_op = tf.train.AdamOptimizer(0.01).minimize(loss)\n",
    "    return train_op"
   ]
  },
  {
   "cell_type": "code",
   "execution_count": 52,
   "metadata": {
    "collapsed": true
   },
   "outputs": [],
   "source": [
    "def evaluation(y_pred, label_placeholder):\n",
    "    label_pred = [tf.cast(tf.argmax(value, dimension=1), tf.int32) for key, value  in enumerate(y_pred)]\n",
    "    label_right = [tf.squeeze(label_placeholder[:, i]) for i in range(num_steps)]\n",
    "    correct_pred_num = []\n",
    "    for i in range(num_steps):\n",
    "        correct_pred_num.append(tf.reduce_sum(tf.cast(tf.equal(label_right[i], label_pred[i]), tf.int32)))\n",
    "    correct_pred_num = np.sum(correct_pred_num)\n",
    "    return correct_pred_num"
   ]
  },
  {
   "cell_type": "code",
   "execution_count": 53,
   "metadata": {
    "collapsed": false
   },
   "outputs": [
    {
     "ename": "SyntaxError",
     "evalue": "invalid syntax (<ipython-input-53-7ade904bd1b1>, line 4)",
     "output_type": "error",
     "traceback": [
      "\u001b[0;36m  File \u001b[0;32m\"<ipython-input-53-7ade904bd1b1>\"\u001b[0;36m, line \u001b[0;32m4\u001b[0m\n\u001b[0;31m    b = [i*j for i in range(10) ; j in range(9)]\u001b[0m\n\u001b[0m                                ^\u001b[0m\n\u001b[0;31mSyntaxError\u001b[0m\u001b[0;31m:\u001b[0m invalid syntax\n"
     ]
    }
   ],
   "source": [
    "a = [1,2,3]\n",
    "print(type(a))\n",
    "np.sum(a)\n",
    "b = [i*j for i in range(10) ; j in range(9)]"
   ]
  },
  {
   "cell_type": "code",
   "execution_count": 54,
   "metadata": {
    "collapsed": false,
    "scrolled": true
   },
   "outputs": [
    {
     "name": "stdout",
     "output_type": "stream",
     "text": [
      "Epoch 0\n",
      "Start Training\n",
      "[2]\n",
      "step 0: loss: 9.616463\n",
      "[35]\n",
      "step 10: loss: 7.766164\n",
      "[60]\n",
      "step 20: loss: 7.025149\n",
      "[58]\n",
      "step 30: loss: 6.770122\n",
      "[56]\n",
      "step 40: loss: 6.695487\n",
      "[81]\n",
      "step 50: loss: 6.544434\n",
      "[69]\n",
      "step 60: loss: 6.513261\n",
      "[78]\n",
      "step 70: loss: 6.467342\n",
      "[93]\n",
      "step 80: loss: 6.397374\n",
      "[89]\n",
      "step 90: loss: 6.292168\n",
      "[83]\n",
      "step 100: loss: 6.231040\n",
      "[91]\n",
      "step 110: loss: 6.219158\n",
      "[93]\n",
      "step 120: loss: 6.214158\n",
      "[89]\n",
      "step 130: loss: 6.231470\n",
      "[83]\n",
      "step 140: loss: 6.085512\n",
      "[116]\n",
      "step 150: loss: 6.111127\n",
      "[98]\n",
      "step 160: loss: 6.147024\n",
      "[106]\n",
      "step 170: loss: 6.074859\n",
      "[99]\n",
      "step 180: loss: 5.939183\n",
      "[94]\n",
      "step 190: loss: 6.011034\n",
      "[90]\n",
      "step 200: loss: 6.076472\n",
      "[91]\n",
      "step 210: loss: 5.941876\n",
      "[101]\n",
      "step 220: loss: 5.944173\n",
      "[85]\n",
      "step 230: loss: 5.979993\n",
      "[105]\n",
      "step 240: loss: 5.883658\n",
      "[112]\n",
      "step 250: loss: 5.818613\n",
      "[123]\n",
      "step 260: loss: 5.800500\n",
      "[111]\n",
      "step 270: loss: 5.725658\n",
      "[105]\n",
      "step 280: loss: 5.904441\n",
      "[101]\n",
      "step 290: loss: 5.870816\n",
      "[110]\n",
      "step 300: loss: 5.838589\n",
      "[116]\n",
      "step 310: loss: 5.791898\n",
      "[115]\n",
      "step 320: loss: 5.814033\n",
      "[115]\n",
      "step 330: loss: 5.823419\n",
      "[106]\n",
      "step 340: loss: 5.645085\n",
      "[105]\n",
      "step 350: loss: 5.818366\n",
      "[119]\n",
      "step 360: loss: 5.709579\n",
      "[114]\n",
      "step 370: loss: 5.658686\n",
      "[114]\n",
      "step 380: loss: 5.607969\n",
      "[113]\n",
      "step 390: loss: 5.727442\n",
      "[139]\n",
      "step 400: loss: 5.619402\n",
      "[112]\n",
      "step 410: loss: 5.768647\n",
      "[109]\n",
      "step 420: loss: 5.734630\n",
      "[119]\n",
      "step 430: loss: 5.619753\n",
      "[113]\n",
      "step 440: loss: 5.645362\n",
      "[132]\n",
      "step 450: loss: 5.630048\n",
      "[123]\n",
      "step 460: loss: 5.584534\n",
      "[111]\n",
      "step 470: loss: 5.509738\n",
      "[142]\n",
      "step 480: loss: 5.411035\n"
     ]
    },
    {
     "ename": "KeyboardInterrupt",
     "evalue": "",
     "output_type": "error",
     "traceback": [
      "\u001b[0;31m----------------------------------------------\u001b[0m",
      "\u001b[0;31mKeyboardInterrupt\u001b[0mTraceback (most recent call last)",
      "\u001b[0;32m<ipython-input-54-f458a5c2e1d0>\u001b[0m in \u001b[0;36m<module>\u001b[0;34m()\u001b[0m\n\u001b[1;32m     26\u001b[0m             \u001b[0mlabel_batch\u001b[0m \u001b[0;34m=\u001b[0m \u001b[0my\u001b[0m\u001b[0;34m\u001b[0m\u001b[0m\n\u001b[1;32m     27\u001b[0m             \u001b[0mfeed\u001b[0m \u001b[0;34m=\u001b[0m \u001b[0mcreate_feed_dict\u001b[0m\u001b[0;34m(\u001b[0m\u001b[0minput_placeholder\u001b[0m\u001b[0;34m,\u001b[0m \u001b[0minput_batch\u001b[0m\u001b[0;34m,\u001b[0m \u001b[0mlabel_placeholder\u001b[0m\u001b[0;34m,\u001b[0m \u001b[0mlabel_batch\u001b[0m\u001b[0;34m)\u001b[0m\u001b[0;34m\u001b[0m\u001b[0m\n\u001b[0;32m---> 28\u001b[0;31m             \u001b[0m_\u001b[0m\u001b[0;34m,\u001b[0m \u001b[0mloss_step\u001b[0m \u001b[0;34m=\u001b[0m \u001b[0msess\u001b[0m\u001b[0;34m.\u001b[0m\u001b[0mrun\u001b[0m\u001b[0;34m(\u001b[0m\u001b[0;34m[\u001b[0m\u001b[0mtrain_op\u001b[0m\u001b[0;34m,\u001b[0m \u001b[0mloss\u001b[0m\u001b[0;34m]\u001b[0m\u001b[0;34m,\u001b[0m \u001b[0mfeed\u001b[0m\u001b[0;34m)\u001b[0m\u001b[0;34m\u001b[0m\u001b[0m\n\u001b[0m\u001b[1;32m     29\u001b[0m             \u001b[0mloss_mean\u001b[0m\u001b[0;34m.\u001b[0m\u001b[0mappend\u001b[0m\u001b[0;34m(\u001b[0m\u001b[0mloss_step\u001b[0m\u001b[0;34m)\u001b[0m\u001b[0;34m\u001b[0m\u001b[0m\n\u001b[1;32m     30\u001b[0m             \u001b[0;32mif\u001b[0m \u001b[0mstep\u001b[0m \u001b[0;34m%\u001b[0m \u001b[0;36m10\u001b[0m \u001b[0;34m==\u001b[0m \u001b[0;36m0\u001b[0m\u001b[0;34m:\u001b[0m\u001b[0;34m\u001b[0m\u001b[0m\n",
      "\u001b[0;32m/home/wang/tensorflow_dl/local/lib/python2.7/site-packages/tensorflow/python/client/session.pyc\u001b[0m in \u001b[0;36mrun\u001b[0;34m(self, fetches, feed_dict, options, run_metadata)\u001b[0m\n\u001b[1;32m    696\u001b[0m     \u001b[0;32mtry\u001b[0m\u001b[0;34m:\u001b[0m\u001b[0;34m\u001b[0m\u001b[0m\n\u001b[1;32m    697\u001b[0m       result = self._run(None, fetches, feed_dict, options_ptr,\n\u001b[0;32m--> 698\u001b[0;31m                          run_metadata_ptr)\n\u001b[0m\u001b[1;32m    699\u001b[0m       \u001b[0;32mif\u001b[0m \u001b[0mrun_metadata\u001b[0m\u001b[0;34m:\u001b[0m\u001b[0;34m\u001b[0m\u001b[0m\n\u001b[1;32m    700\u001b[0m         \u001b[0mproto_data\u001b[0m \u001b[0;34m=\u001b[0m \u001b[0mtf_session\u001b[0m\u001b[0;34m.\u001b[0m\u001b[0mTF_GetBuffer\u001b[0m\u001b[0;34m(\u001b[0m\u001b[0mrun_metadata_ptr\u001b[0m\u001b[0;34m)\u001b[0m\u001b[0;34m\u001b[0m\u001b[0m\n",
      "\u001b[0;32m/home/wang/tensorflow_dl/local/lib/python2.7/site-packages/tensorflow/python/client/session.pyc\u001b[0m in \u001b[0;36m_run\u001b[0;34m(self, handle, fetches, feed_dict, options, run_metadata)\u001b[0m\n\u001b[1;32m    890\u001b[0m     results = self._do_run(handle, fetch_handler.targets(),\n\u001b[1;32m    891\u001b[0m                            \u001b[0mfetch_handler\u001b[0m\u001b[0;34m.\u001b[0m\u001b[0mfetches\u001b[0m\u001b[0;34m(\u001b[0m\u001b[0;34m)\u001b[0m\u001b[0;34m,\u001b[0m \u001b[0mfeed_dict_string\u001b[0m\u001b[0;34m,\u001b[0m \u001b[0moptions\u001b[0m\u001b[0;34m,\u001b[0m\u001b[0;34m\u001b[0m\u001b[0m\n\u001b[0;32m--> 892\u001b[0;31m                            run_metadata)\n\u001b[0m\u001b[1;32m    893\u001b[0m     \u001b[0;32mreturn\u001b[0m \u001b[0mfetch_handler\u001b[0m\u001b[0;34m.\u001b[0m\u001b[0mbuild_results\u001b[0m\u001b[0;34m(\u001b[0m\u001b[0mself\u001b[0m\u001b[0;34m,\u001b[0m \u001b[0mresults\u001b[0m\u001b[0;34m)\u001b[0m\u001b[0;34m\u001b[0m\u001b[0m\n\u001b[1;32m    894\u001b[0m \u001b[0;34m\u001b[0m\u001b[0m\n",
      "\u001b[0;32m/home/wang/tensorflow_dl/local/lib/python2.7/site-packages/tensorflow/python/client/session.pyc\u001b[0m in \u001b[0;36m_do_run\u001b[0;34m(self, handle, target_list, fetch_list, feed_dict, options, run_metadata)\u001b[0m\n\u001b[1;32m    938\u001b[0m     \u001b[0;32mif\u001b[0m \u001b[0mhandle\u001b[0m \u001b[0;32mis\u001b[0m \u001b[0mNone\u001b[0m\u001b[0;34m:\u001b[0m\u001b[0;34m\u001b[0m\u001b[0m\n\u001b[1;32m    939\u001b[0m       return self._do_call(_run_fn, self._session, feed_dict, fetch_list,\n\u001b[0;32m--> 940\u001b[0;31m                            target_list, options, run_metadata)\n\u001b[0m\u001b[1;32m    941\u001b[0m     \u001b[0;32melse\u001b[0m\u001b[0;34m:\u001b[0m\u001b[0;34m\u001b[0m\u001b[0m\n\u001b[1;32m    942\u001b[0m       return self._do_call(_prun_fn, self._session, handle, feed_dict,\n",
      "\u001b[0;32m/home/wang/tensorflow_dl/local/lib/python2.7/site-packages/tensorflow/python/client/session.pyc\u001b[0m in \u001b[0;36m_do_call\u001b[0;34m(self, fn, *args)\u001b[0m\n\u001b[1;32m    945\u001b[0m   \u001b[0;32mdef\u001b[0m \u001b[0m_do_call\u001b[0m\u001b[0;34m(\u001b[0m\u001b[0mself\u001b[0m\u001b[0;34m,\u001b[0m \u001b[0mfn\u001b[0m\u001b[0;34m,\u001b[0m \u001b[0;34m*\u001b[0m\u001b[0margs\u001b[0m\u001b[0;34m)\u001b[0m\u001b[0;34m:\u001b[0m\u001b[0;34m\u001b[0m\u001b[0m\n\u001b[1;32m    946\u001b[0m     \u001b[0;32mtry\u001b[0m\u001b[0;34m:\u001b[0m\u001b[0;34m\u001b[0m\u001b[0m\n\u001b[0;32m--> 947\u001b[0;31m       \u001b[0;32mreturn\u001b[0m \u001b[0mfn\u001b[0m\u001b[0;34m(\u001b[0m\u001b[0;34m*\u001b[0m\u001b[0margs\u001b[0m\u001b[0;34m)\u001b[0m\u001b[0;34m\u001b[0m\u001b[0m\n\u001b[0m\u001b[1;32m    948\u001b[0m     \u001b[0;32mexcept\u001b[0m \u001b[0merrors\u001b[0m\u001b[0;34m.\u001b[0m\u001b[0mOpError\u001b[0m \u001b[0;32mas\u001b[0m \u001b[0me\u001b[0m\u001b[0;34m:\u001b[0m\u001b[0;34m\u001b[0m\u001b[0m\n\u001b[1;32m    949\u001b[0m       \u001b[0mmessage\u001b[0m \u001b[0;34m=\u001b[0m \u001b[0mcompat\u001b[0m\u001b[0;34m.\u001b[0m\u001b[0mas_text\u001b[0m\u001b[0;34m(\u001b[0m\u001b[0me\u001b[0m\u001b[0;34m.\u001b[0m\u001b[0mmessage\u001b[0m\u001b[0;34m)\u001b[0m\u001b[0;34m\u001b[0m\u001b[0m\n",
      "\u001b[0;32m/home/wang/tensorflow_dl/local/lib/python2.7/site-packages/tensorflow/python/client/session.pyc\u001b[0m in \u001b[0;36m_run_fn\u001b[0;34m(session, feed_dict, fetch_list, target_list, options, run_metadata)\u001b[0m\n\u001b[1;32m    927\u001b[0m         return tf_session.TF_Run(session, options,\n\u001b[1;32m    928\u001b[0m                                  \u001b[0mfeed_dict\u001b[0m\u001b[0;34m,\u001b[0m \u001b[0mfetch_list\u001b[0m\u001b[0;34m,\u001b[0m \u001b[0mtarget_list\u001b[0m\u001b[0;34m,\u001b[0m\u001b[0;34m\u001b[0m\u001b[0m\n\u001b[0;32m--> 929\u001b[0;31m                                  status, run_metadata)\n\u001b[0m\u001b[1;32m    930\u001b[0m \u001b[0;34m\u001b[0m\u001b[0m\n\u001b[1;32m    931\u001b[0m     \u001b[0;32mdef\u001b[0m \u001b[0m_prun_fn\u001b[0m\u001b[0;34m(\u001b[0m\u001b[0msession\u001b[0m\u001b[0;34m,\u001b[0m \u001b[0mhandle\u001b[0m\u001b[0;34m,\u001b[0m \u001b[0mfeed_dict\u001b[0m\u001b[0;34m,\u001b[0m \u001b[0mfetch_list\u001b[0m\u001b[0;34m)\u001b[0m\u001b[0;34m:\u001b[0m\u001b[0;34m\u001b[0m\u001b[0m\n",
      "\u001b[0;31mKeyboardInterrupt\u001b[0m: "
     ]
    }
   ],
   "source": [
    "with tf.Graph().as_default(), tf.device('/cpu:0'):\n",
    "    input_placeholder, label_placeholder = add_placeholders()\n",
    "    vocab_size = len(vocab)\n",
    "    inputs = add_embed_layer(vocab_size, input_placeholder)\n",
    "    rnn_outputs = add_model(inputs, vocab_size)\n",
    "\n",
    "    ## projecttion, output is a List, num_steps of 2-D tensors[batch_size, vocab_size]\n",
    "    outputs = add_projection_layer(rnn_outputs, vocab_size)\n",
    "    ##\n",
    "    pred = [tf.nn.softmax(value) for key, value in enumerate(outputs)]\n",
    "    \n",
    "    eval_correct = evaluation(pred, label_placeholder)\n",
    "    ## add loss op\n",
    "    loss = add_loss_op(outputs, label_placeholder)\n",
    "    ## add training op\n",
    "    train_op = add_train_op(loss)\n",
    "    \n",
    "    for epoch in range(max_epochs):\n",
    "        print('Epoch %d' %(epoch))\n",
    "        print('Start Training')\n",
    "        sess = tf.Session()\n",
    "        sess.run(tf.initialize_all_variables())\n",
    "        loss_mean = []\n",
    "        for step, (x, y) in enumerate(ptb_iterator(train_set, batch_size, num_steps)):\n",
    "            input_batch = x\n",
    "            label_batch = y\n",
    "            feed = create_feed_dict(input_placeholder, input_batch, label_placeholder, label_batch)\n",
    "            _, loss_step = sess.run([train_op, loss], feed)\n",
    "            loss_mean.append(loss_step)\n",
    "            if step % 10 == 0:\n",
    "                eval_correct_step = sess.run([eval_correct], feed)\n",
    "                #pred_step = sess.run([pred], feed)\n",
    "               ## label_pred = [tf.argmax(value, dimension=1) for key, value  in pred_step]\n",
    "                print(eval_correct_step)\n",
    "                print('step %d: loss: %f' %(step, np.mean(loss_mean)))\n",
    "                loss_mean = []\n",
    "                \n",
    "        print('Start Vailidation')\n",
    "        "
   ]
  },
  {
   "cell_type": "code",
   "execution_count": 35,
   "metadata": {
    "collapsed": false
   },
   "outputs": [
    {
     "name": "stdout",
     "output_type": "stream",
     "text": [
      "(64, 10)\n",
      "(64, 10)\n"
     ]
    }
   ],
   "source": [
    "for step, (x, y) in enumerate(ptb_iterator(train_set, batch_size, num_steps)):\n",
    "    input_batch = x\n",
    "    label_batch = y\n",
    "    print(x.shape)\n",
    "    print(y.shape)\n",
    "    break;"
   ]
  },
  {
   "cell_type": "code",
   "execution_count": null,
   "metadata": {
    "collapsed": false
   },
   "outputs": [],
   "source": [
    "help(tf.nn.embedding_lookup)"
   ]
  },
  {
   "cell_type": "code",
   "execution_count": null,
   "metadata": {
    "collapsed": false
   },
   "outputs": [],
   "source": [
    "help(tf.nn.seq2seq.sequence_loss_by_example)"
   ]
  },
  {
   "cell_type": "code",
   "execution_count": null,
   "metadata": {
    "collapsed": false
   },
   "outputs": [],
   "source": [
    "help(tf.variable_scope)"
   ]
  },
  {
   "cell_type": "code",
   "execution_count": null,
   "metadata": {
    "collapsed": true
   },
   "outputs": [],
   "source": []
  }
 ],
 "metadata": {
  "kernelspec": {
   "display_name": "Python 2",
   "language": "python",
   "name": "python2"
  },
  "language_info": {
   "codemirror_mode": {
    "name": "ipython",
    "version": 2
   },
   "file_extension": ".py",
   "mimetype": "text/x-python",
   "name": "python",
   "nbconvert_exporter": "python",
   "pygments_lexer": "ipython2",
   "version": "2.7.11+"
  }
 },
 "nbformat": 4,
 "nbformat_minor": 1
}
